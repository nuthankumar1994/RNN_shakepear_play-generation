{
 "cells": [
  {
   "cell_type": "code",
   "execution_count": 1,
   "metadata": {},
   "outputs": [],
   "source": [
    "from keras.preprocessing import sequence\n",
    "import keras \n",
    "import tensorflow as tf \n",
    "import os \n",
    "import numpy as np "
   ]
  },
  {
   "cell_type": "code",
   "execution_count": 10,
   "metadata": {},
   "outputs": [
    {
     "name": "stdout",
     "output_type": "stream",
     "text": [
      "length of text : 1115394 characters\n"
     ]
    }
   ],
   "source": [
    "text = open('/Users/nuthankumar/Downloads/shakespeare.txt', 'rb').read().decode(encoding='utf-8')\n",
    "print(f'length of text : {len(text)} characters')"
   ]
  },
  {
   "cell_type": "code",
   "execution_count": 11,
   "metadata": {},
   "outputs": [
    {
     "name": "stdout",
     "output_type": "stream",
     "text": [
      "First Citizen:\n",
      "Before we proceed any further, hear me speak.\n",
      "\n",
      "All:\n",
      "Speak, speak.\n",
      "\n",
      "First Citizen:\n",
      "You are all resolved rather to die than to famish?\n",
      "\n",
      "All:\n",
      "Resolved. resolved.\n",
      "\n",
      "First Citizen:\n",
      "First, you know Caius Marcius is chief enemy to the people.\n",
      "\n"
     ]
    }
   ],
   "source": [
    "print(text[:250])"
   ]
  },
  {
   "cell_type": "markdown",
   "metadata": {},
   "source": [
    "Encoding -convert each character as unique character as a different integer"
   ]
  },
  {
   "cell_type": "code",
   "execution_count": 12,
   "metadata": {},
   "outputs": [],
   "source": [
    "vocab = sorted(set(text))\n",
    "char2idx = {u:i for i, u in enumerate(vocab)}\n",
    "idx2char = np.array(vocab)\n",
    "\n",
    "def text_to_int(text):\n",
    "    return np.array([char2idx[c] for c in text])\n",
    "\n",
    "text_as_int = text_to_int(text)"
   ]
  },
  {
   "cell_type": "code",
   "execution_count": 13,
   "metadata": {},
   "outputs": [
    {
     "name": "stdout",
     "output_type": "stream",
     "text": [
      "Text: First Citizen\n",
      "Encoded: [18 47 56 57 58  1 15 47 58 47 64 43 52]\n"
     ]
    }
   ],
   "source": [
    "print(\"Text:\", text[:13])\n",
    "print(\"Encoded:\", text_to_int(text[:13]))"
   ]
  },
  {
   "cell_type": "code",
   "execution_count": 21,
   "metadata": {},
   "outputs": [
    {
     "name": "stdout",
     "output_type": "stream",
     "text": [
      "First Citizen\n"
     ]
    }
   ],
   "source": [
    "def int_to_text(ints):\n",
    "    try:\n",
    "        ints = ints.numpy()\n",
    "    except:\n",
    "        pass\n",
    "    return ''.join(idx2char[ints])\n",
    "\n",
    "print(int_to_text(text_as_int[:13]))"
   ]
  },
  {
   "cell_type": "code",
   "execution_count": 22,
   "metadata": {},
   "outputs": [
    {
     "name": "stderr",
     "output_type": "stream",
     "text": [
      "2022-04-17 18:05:42.107443: I tensorflow/core/platform/cpu_feature_guard.cc:151] This TensorFlow binary is optimized with oneAPI Deep Neural Network Library (oneDNN) to use the following CPU instructions in performance-critical operations:  SSE4.1 SSE4.2\n",
      "To enable them in other operations, rebuild TensorFlow with the appropriate compiler flags.\n"
     ]
    }
   ],
   "source": [
    "seq_length = 100 #lenght of sequence for a training example\n",
    "examples_per_epoch = len(text)//(seq_length+1)\n",
    "\n",
    "#create trining examples / targets \n",
    "char_dataset = tf.data.Dataset.from_tensor_slices(text_as_int)"
   ]
  },
  {
   "cell_type": "code",
   "execution_count": 23,
   "metadata": {},
   "outputs": [],
   "source": [
    "sequence = char_dataset.batch(seq_length+1, drop_remainder=True)"
   ]
  },
  {
   "cell_type": "code",
   "execution_count": 26,
   "metadata": {},
   "outputs": [],
   "source": [
    "def split_input_target(chunk):  # for the example: hello\n",
    "    input_text = chunk[:-1]  # hell\n",
    "    target_text = chunk[1:]  # ello\n",
    "    return input_text, target_text  # hell, ello\n",
    "\n",
    "dataset = sequence.map(split_input_target)  # we use map to apply the above function to every entry"
   ]
  },
  {
   "cell_type": "code",
   "execution_count": 29,
   "metadata": {},
   "outputs": [
    {
     "name": "stdout",
     "output_type": "stream",
     "text": [
      "\n",
      "\n",
      "EXAMPLE\n",
      "\n",
      "INPUT\n",
      "First Citizen:\n",
      "Before we proceed any further, hear me speak.\n",
      "\n",
      "All:\n",
      "Speak, speak.\n",
      "\n",
      "First Citizen:\n",
      "You\n",
      "\n",
      "OUTPUT\n",
      "irst Citizen:\n",
      "Before we proceed any further, hear me speak.\n",
      "\n",
      "All:\n",
      "Speak, speak.\n",
      "\n",
      "First Citizen:\n",
      "You \n",
      "\n",
      "\n",
      "EXAMPLE\n",
      "\n",
      "INPUT\n",
      "are all resolved rather to die than to famish?\n",
      "\n",
      "All:\n",
      "Resolved. resolved.\n",
      "\n",
      "First Citizen:\n",
      "First, you \n",
      "\n",
      "OUTPUT\n",
      "re all resolved rather to die than to famish?\n",
      "\n",
      "All:\n",
      "Resolved. resolved.\n",
      "\n",
      "First Citizen:\n",
      "First, you k\n"
     ]
    }
   ],
   "source": [
    "for x, y in dataset.take(2):\n",
    "    print(\"\\n\\nEXAMPLE\\n\")\n",
    "    print(\"INPUT\")\n",
    "    print(int_to_text(x))\n",
    "    print(\"\\nOUTPUT\")\n",
    "    print(int_to_text(y))"
   ]
  },
  {
   "cell_type": "code",
   "execution_count": 33,
   "metadata": {},
   "outputs": [],
   "source": [
    "BATCH_SIZE = 64\n",
    "VOCAB_SIZE = len(vocab)  # vocab is number of unique characters\n",
    "EMBEDDING_DIM = 256\n",
    "RNN_UNITS = 1024\n",
    "\n",
    "# Buffer size to shuffle the dataset\n",
    "# (TF data is designed to work with possibly infinite sequences,\n",
    "# so it doesn't attempt to shuffle the entire sequence in memory. Instead,\n",
    "# it maintains a buffer in which it shuffles elements).\n",
    "BUFFER_SIZE = 10000\n",
    "\n",
    "data = dataset.shuffle(BUFFER_SIZE).batch(BATCH_SIZE, drop_remainder=True)"
   ]
  },
  {
   "cell_type": "code",
   "execution_count": 34,
   "metadata": {},
   "outputs": [
    {
     "name": "stdout",
     "output_type": "stream",
     "text": [
      "Model: \"sequential\"\n",
      "_________________________________________________________________\n",
      " Layer (type)                Output Shape              Param #   \n",
      "=================================================================\n",
      " embedding (Embedding)       (64, None, 256)           16640     \n",
      "                                                                 \n",
      " lstm (LSTM)                 (64, None, 1024)          5246976   \n",
      "                                                                 \n",
      " dense (Dense)               (64, None, 65)            66625     \n",
      "                                                                 \n",
      "=================================================================\n",
      "Total params: 5,330,241\n",
      "Trainable params: 5,330,241\n",
      "Non-trainable params: 0\n",
      "_________________________________________________________________\n"
     ]
    }
   ],
   "source": [
    "def build_model(vocab_size, embedding_dim, rnn_units, batch_size):\n",
    "    model = tf.keras.Sequential([\n",
    "    tf.keras.layers.Embedding(vocab_size, embedding_dim,\n",
    "                              batch_input_shape=[batch_size, None]),\n",
    "    tf.keras.layers.LSTM(rnn_units,\n",
    "                        return_sequences=True,\n",
    "                        stateful=True,\n",
    "                        recurrent_initializer='glorot_uniform'),\n",
    "    tf.keras.layers.Dense(vocab_size)\n",
    "  ])\n",
    "    return model\n",
    "\n",
    "model = build_model(VOCAB_SIZE,EMBEDDING_DIM, RNN_UNITS, BATCH_SIZE)\n",
    "model.summary()"
   ]
  },
  {
   "cell_type": "code",
   "execution_count": 39,
   "metadata": {},
   "outputs": [
    {
     "name": "stdout",
     "output_type": "stream",
     "text": [
      "(64, 100, 65) # (batch_size, sequence_length, vocab_size)\n"
     ]
    }
   ],
   "source": [
    "for input_example_batch, target_example_batch in data.take(1):\n",
    "    example_batch_predictions = model(input_example_batch)  # ask our model for a prediction on our first batch of training data (64 entries)\n",
    "    print(example_batch_predictions.shape, \"# (batch_size, sequence_length, vocab_size)\")  # print out the output shape"
   ]
  },
  {
   "cell_type": "code",
   "execution_count": 40,
   "metadata": {},
   "outputs": [
    {
     "name": "stdout",
     "output_type": "stream",
     "text": [
      "64\n",
      "tf.Tensor(\n",
      "[[[-0.00397122 -0.00216983 -0.00493209 ...  0.00280518 -0.00367669\n",
      "    0.000792  ]\n",
      "  [-0.00989217  0.00246343 -0.01006163 ... -0.00427083 -0.00791966\n",
      "   -0.0040151 ]\n",
      "  [-0.00552519  0.0015785  -0.00503073 ... -0.00324098 -0.00217815\n",
      "   -0.00085359]\n",
      "  ...\n",
      "  [-0.01104917  0.00126988 -0.0010531  ...  0.0030817  -0.00741801\n",
      "   -0.00073603]\n",
      "  [-0.01010646  0.00177636 -0.00120853 ... -0.00050446 -0.00389778\n",
      "   -0.00403074]\n",
      "  [-0.01227846 -0.00303128 -0.00068513 ... -0.00051176  0.00140545\n",
      "   -0.0011688 ]]\n",
      "\n",
      " [[ 0.0068974  -0.00958298  0.0019778  ...  0.0019543  -0.00201078\n",
      "   -0.00101586]\n",
      "  [ 0.00283226 -0.01336535  0.00306271 ... -0.00222185  0.00580967\n",
      "   -0.00173371]\n",
      "  [ 0.00198469 -0.01240167  0.00709158 ... -0.01033729  0.00670723\n",
      "   -0.00393187]\n",
      "  ...\n",
      "  [ 0.00816919 -0.00983437  0.00949153 ... -0.00544435  0.003636\n",
      "   -0.00026337]\n",
      "  [ 0.00998421 -0.01071401  0.0132242  ... -0.00130441  0.00121285\n",
      "    0.00575912]\n",
      "  [ 0.00212639 -0.00972493  0.00629773 ...  0.00196777 -0.00186207\n",
      "    0.00535663]]\n",
      "\n",
      " [[-0.00397122 -0.00216983 -0.00493209 ...  0.00280518 -0.00367669\n",
      "    0.000792  ]\n",
      "  [ 0.00315015 -0.00313656 -0.00500897 ...  0.00361093 -0.00482444\n",
      "   -0.00223332]\n",
      "  [ 0.00182365 -0.00906769  0.00047458 ... -0.00228713 -0.00550179\n",
      "   -0.00570989]\n",
      "  ...\n",
      "  [-0.00871945  0.00443667  0.00761304 ... -0.00751795 -0.00088393\n",
      "   -0.00600034]\n",
      "  [-0.00570132  0.00170511  0.00800636 ... -0.00268553  0.000866\n",
      "   -0.00179992]\n",
      "  [-0.00442045  0.00525858  0.00765413 ...  0.00024962 -0.00205822\n",
      "    0.00545269]]\n",
      "\n",
      " ...\n",
      "\n",
      " [[ 0.00083766 -0.00175057  0.0043827  ... -0.00832665  0.00151009\n",
      "   -0.0018684 ]\n",
      "  [ 0.00038872  0.00424684  0.00582969 ... -0.00663314  0.0010847\n",
      "    0.00605295]\n",
      "  [-0.00014371  0.00294244  0.00904961 ... -0.013534    0.00130263\n",
      "    0.00317979]\n",
      "  ...\n",
      "  [-0.01362568 -0.00058879 -0.00980655 ...  0.00020252 -0.00889016\n",
      "   -0.00590091]\n",
      "  [-0.00885374 -0.00103822 -0.00553493 ... -0.00089309 -0.0112529\n",
      "   -0.00155864]\n",
      "  [-0.00078332 -0.00080331 -0.0079203  ... -0.0018086  -0.01012325\n",
      "    0.00282754]]\n",
      "\n",
      " [[ 0.00083766 -0.00175057  0.0043827  ... -0.00832665  0.00151009\n",
      "   -0.0018684 ]\n",
      "  [-0.00420321 -0.00086053  0.00159325 ... -0.00622499  0.00079994\n",
      "   -0.0024973 ]\n",
      "  [-0.00247908 -0.00522965  0.00238358 ... -0.00139949  0.00370172\n",
      "   -0.00370044]\n",
      "  ...\n",
      "  [ 0.00504009  0.00414619  0.00842278 ... -0.00163023 -0.01227917\n",
      "   -0.00794424]\n",
      "  [-0.00578869  0.00449842  0.00769723 ... -0.00418912 -0.01765583\n",
      "   -0.01130467]\n",
      "  [-0.00463035  0.00438253  0.00896573 ... -0.01202163 -0.01253498\n",
      "   -0.01082898]]\n",
      "\n",
      " [[ 0.00206534 -0.00120586  0.00266516 ...  0.00209926 -0.00401593\n",
      "   -0.00088203]\n",
      "  [ 0.00781651 -0.00978107  0.00335874 ...  0.00344189 -0.0046862\n",
      "   -0.00136759]\n",
      "  [ 0.00199938 -0.00651851  0.00707568 ...  0.00133518 -0.00268272\n",
      "    0.00041535]\n",
      "  ...\n",
      "  [-0.00346259 -0.00705128  0.01225567 ... -0.00298046 -0.00258279\n",
      "   -0.00224631]\n",
      "  [-0.00696643 -0.00481106  0.01475592 ... -0.00306959  0.00024458\n",
      "   -0.0045596 ]\n",
      "  [-0.00483658 -0.00536986  0.01492529 ... -0.00099322 -0.00394921\n",
      "    0.00021535]]], shape=(64, 100, 65), dtype=float32)\n"
     ]
    }
   ],
   "source": [
    "# we can see that the predicition is an array of 64 arrays, one for each entry in the batch\n",
    "print(len(example_batch_predictions))\n",
    "print(example_batch_predictions)"
   ]
  },
  {
   "cell_type": "code",
   "execution_count": 43,
   "metadata": {},
   "outputs": [
    {
     "name": "stdout",
     "output_type": "stream",
     "text": [
      "100\n",
      "tf.Tensor(\n",
      "[[-0.00397122 -0.00216983 -0.00493209 ...  0.00280518 -0.00367669\n",
      "   0.000792  ]\n",
      " [-0.00989217  0.00246343 -0.01006163 ... -0.00427083 -0.00791966\n",
      "  -0.0040151 ]\n",
      " [-0.00552519  0.0015785  -0.00503073 ... -0.00324098 -0.00217815\n",
      "  -0.00085359]\n",
      " ...\n",
      " [-0.01104917  0.00126988 -0.0010531  ...  0.0030817  -0.00741801\n",
      "  -0.00073603]\n",
      " [-0.01010646  0.00177636 -0.00120853 ... -0.00050446 -0.00389778\n",
      "  -0.00403074]\n",
      " [-0.01227846 -0.00303128 -0.00068513 ... -0.00051176  0.00140545\n",
      "  -0.0011688 ]], shape=(100, 65), dtype=float32)\n"
     ]
    }
   ],
   "source": [
    "pred = example_batch_predictions[0]\n",
    "print(len(pred))\n",
    "print(pred)"
   ]
  },
  {
   "cell_type": "code",
   "execution_count": 44,
   "metadata": {},
   "outputs": [
    {
     "name": "stdout",
     "output_type": "stream",
     "text": [
      "65\n",
      "tf.Tensor(\n",
      "[-3.9712153e-03 -2.1698270e-03 -4.9320916e-03 -1.9819795e-03\n",
      "  2.2533813e-03 -3.3941749e-04 -4.5591267e-04 -3.2212120e-05\n",
      "  7.7486812e-04 -4.2894552e-03 -2.0506112e-03  1.5532154e-03\n",
      "  4.1250940e-03 -1.6846259e-03  3.0075274e-03  5.5464031e-03\n",
      "  1.4910118e-03 -5.9946077e-03  4.5219613e-03  2.5072307e-03\n",
      "  2.0315126e-03  7.4398848e-03  2.5311545e-03  3.5749669e-03\n",
      " -9.5072773e-04  9.3878561e-04 -2.1321627e-03  3.4006652e-03\n",
      "  1.2647902e-03  3.8029568e-04 -5.1423330e-03  1.2024879e-03\n",
      " -4.9098767e-03  7.4330843e-03 -6.1387010e-03  3.1025421e-03\n",
      "  7.6438943e-03 -4.1202735e-03 -6.3133305e-03  3.4522247e-03\n",
      " -6.9967128e-04 -3.9437497e-03  2.3948601e-03 -3.1940367e-03\n",
      " -2.5195237e-03  5.2880519e-04 -2.7365698e-03 -4.2357300e-03\n",
      "  3.0184372e-03 -1.1633228e-03 -4.8523988e-03  3.3918421e-03\n",
      " -2.1313690e-04  2.5480660e-03  2.1730457e-03 -2.3472332e-03\n",
      " -2.3203266e-03 -2.4848862e-04  3.7957991e-03 -4.9253274e-03\n",
      " -1.5062341e-03 -5.8049466e-03  2.8051815e-03 -3.6766857e-03\n",
      "  7.9200027e-04], shape=(65,), dtype=float32)\n"
     ]
    }
   ],
   "source": [
    "time_pred = pred[0]\n",
    "print(len(time_pred))\n",
    "print(time_pred)"
   ]
  },
  {
   "cell_type": "code",
   "execution_count": 45,
   "metadata": {},
   "outputs": [
    {
     "data": {
      "text/plain": [
       "\"-MZFiPExVfoTawZIp'kh!blYA'AhJ\\nZssUqbDgH3PFuBA-:zU?yl\\nXnZE3IGXE?:RkyEv.-&:h3!GXnzzKB-K3KeIMaYWRYQCPoR\""
      ]
     },
     "execution_count": 45,
     "metadata": {},
     "output_type": "execute_result"
    }
   ],
   "source": [
    "# If we want to determine the predicted character we need to sample the output distribution (pick a value based on probabillity)\n",
    "sampled_indices = tf.random.categorical(pred, num_samples=1)\n",
    "\n",
    "# now we can reshape that array and convert all the integers to numbers to see the actual characters\n",
    "sampled_indices = np.reshape(sampled_indices, (1, -1))[0]\n",
    "predicted_chars = int_to_text(sampled_indices)\n",
    "\n",
    "predicted_chars  # and this is what the model predicted for training sequence 1"
   ]
  },
  {
   "cell_type": "code",
   "execution_count": 51,
   "metadata": {},
   "outputs": [],
   "source": [
    "def loss(labels, logits):\n",
    "  return tf.keras.losses.sparse_categorical_crossentropy(labels, logits, from_logits=True)"
   ]
  },
  {
   "cell_type": "code",
   "execution_count": 53,
   "metadata": {},
   "outputs": [],
   "source": [
    "model.compile(optimizer='adam', loss=loss)"
   ]
  },
  {
   "cell_type": "code",
   "execution_count": 54,
   "metadata": {},
   "outputs": [],
   "source": [
    "# Directory where the checkpoints will be saved\n",
    "checkpoint_dir = './training_checkpoints'\n",
    "# Name of the checkpoint files\n",
    "checkpoint_prefix = os.path.join(checkpoint_dir, \"ckpt_{epoch}\")\n",
    "\n",
    "checkpoint_callback=tf.keras.callbacks.ModelCheckpoint(\n",
    "    filepath=checkpoint_prefix,\n",
    "    save_weights_only=True)"
   ]
  },
  {
   "cell_type": "code",
   "execution_count": null,
   "metadata": {},
   "outputs": [],
   "source": [
    "history = model.fit(data, epochs=50, callbacks=[checkpoint_callback])"
   ]
  },
  {
   "cell_type": "code",
   "execution_count": null,
   "metadata": {},
   "outputs": [],
   "source": [
    "model = build_model(VOCAB_SIZE, EMBEDDING_DIM, RNN_UNITS, batch_size=1)"
   ]
  },
  {
   "cell_type": "code",
   "execution_count": null,
   "metadata": {},
   "outputs": [],
   "source": [
    "model.load_weights(tf.train.latest_checkpoint(checkpoint_dir))\n",
    "model.build(tf.TensorShape([1, None]))"
   ]
  },
  {
   "cell_type": "code",
   "execution_count": null,
   "metadata": {},
   "outputs": [],
   "source": [
    "def generate_text(model, start_string):\n",
    "      # Evaluation step (generating text using the learned model)\n",
    "\n",
    "  # Number of characters to generate\n",
    "  num_generate = 800\n",
    "\n",
    "  # Converting our start string to numbers (vectorizing)\n",
    "  input_eval = [char2idx[s] for s in start_string]\n",
    "  input_eval = tf.expand_dims(input_eval, 0)\n",
    "\n",
    "  # Empty string to store our results\n",
    "  text_generated = []\n",
    "\n",
    "  # Low temperatures results in more predictable text.\n",
    "  # Higher temperatures results in more surprising text.\n",
    "  # Experiment to find the best setting.\n",
    "  temperature = 1.0\n",
    "\n",
    "  # Here batch size == 1\n",
    "  model.reset_states()\n",
    "  for i in range(num_generate):\n",
    "      predictions = model(input_eval)\n",
    "      # remove the batch dimension\n",
    "    \n",
    "      predictions = tf.squeeze(predictions, 0)\n",
    "\n",
    "      # using a categorical distribution to predict the character returned by the model\n",
    "      predictions = predictions / temperature\n",
    "      predicted_id = tf.random.categorical(predictions, num_samples=1)[-1,0].numpy()\n",
    "\n",
    "      # We pass the predicted character as the next input to the model\n",
    "      # along with the previous hidden state\n",
    "      input_eval = tf.expand_dims([predicted_id], 0)\n",
    "\n",
    "      text_generated.append(idx2char[predicted_id])\n",
    "\n",
    "  return (start_string + ''.join(text_generated))"
   ]
  },
  {
   "cell_type": "code",
   "execution_count": null,
   "metadata": {},
   "outputs": [],
   "source": [
    "inp = input(\"Type a starting string: \")\n",
    "print(generate_text(model, inp))"
   ]
  }
 ],
 "metadata": {
  "interpreter": {
   "hash": "8acd2a4c40bb06440d03e583eeea35c6596324a3385dafe16353bbc1939be192"
  },
  "kernelspec": {
   "display_name": "Python 3.10.0 ('tensorflow')",
   "language": "python",
   "name": "python3"
  },
  "language_info": {
   "codemirror_mode": {
    "name": "ipython",
    "version": 3
   },
   "file_extension": ".py",
   "mimetype": "text/x-python",
   "name": "python",
   "nbconvert_exporter": "python",
   "pygments_lexer": "ipython3",
   "version": "3.10.0"
  },
  "orig_nbformat": 4
 },
 "nbformat": 4,
 "nbformat_minor": 2
}
